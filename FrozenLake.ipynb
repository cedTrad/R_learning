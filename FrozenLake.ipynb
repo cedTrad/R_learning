{
 "cells": [
  {
   "cell_type": "code",
   "execution_count": null,
   "metadata": {},
   "outputs": [],
   "source": [
    "import gym\n",
    "import numpy as np\n"
   ]
  },
  {
   "cell_type": "code",
   "execution_count": null,
   "metadata": {},
   "outputs": [],
   "source": [
    "#env = gym.make(\"FrozenLake-v1\", render_mode=\"human\")\n",
    "env = gym.make(\"FrozenLake-v1\", render_mode=\"rgb_array\")\n",
    "env"
   ]
  },
  {
   "cell_type": "code",
   "execution_count": null,
   "metadata": {},
   "outputs": [],
   "source": [
    "def value_iterations(env):\n",
    "    num_iterations = 10\n",
    "    threshold = 1e-20\n",
    "    gamma = 1\n",
    "    value_table = np.zeros(env.observation_space.n)\n",
    "    \n",
    "    for i in range(num_iterations):\n",
    "        updated_value_table = np.copy(value_table)\n",
    "        \n",
    "        for s in range(env.observation_space.n):\n",
    "            a = policy[s]\n",
    "            value_table[s] = sum(\n",
    "                [prob * (r + gamma * updated_value_tab)\n",
    "                 for prob, s_, r, _ in env.P[s][a]]\n",
    "            )\n",
    "            \n",
    "        if (np.sum(np.fabs(updated_value_table - value))) <= threshold:\n",
    "            break\n",
    "    \n",
    "    return value_table\n",
    "        \n",
    "\n",
    "value_iterations(env)"
   ]
  },
  {
   "cell_type": "code",
   "execution_count": 18,
   "metadata": {},
   "outputs": [],
   "source": [
    "def extract_policy(value_table):\n",
    "    gamma = 1\n",
    "    policy = np.zeros(env.observation_space.n)\n",
    "    for s in range(env.observation_space.n):\n",
    "        Q_values = [\n",
    "            sum(prob * (r + gamma*value_table)) \n",
    "            for prob, s_, r, _ in env.P[s][a]\n",
    "            for a in range(env.action_space.n)            \n",
    "        ]\n",
    "        policy[s] = np.argmax(np.array(Q_values))\n",
    "\n",
    "    return policy \n"
   ]
  },
  {
   "cell_type": "code",
   "execution_count": 19,
   "metadata": {},
   "outputs": [],
   "source": [
    "def policy_iteration(env):\n",
    "    num_iterations = 1000\n",
    "    policy = np.zeros(env.observation_space.n)\n",
    "    \n",
    "    for i in range(num_iterations):\n",
    "        value_function = compute_value_function(policy)\n",
    "        new_policy = extract_policy(value_function)\n",
    "        if (np.all(policy == new_policy)):\n",
    "            break\n",
    "        policy = new_policy\n",
    "    \n",
    "    return policy\n",
    "\n",
    "#optimal_policy = policy_iteration(env)"
   ]
  },
  {
   "cell_type": "code",
   "execution_count": null,
   "metadata": {},
   "outputs": [],
   "source": [
    "def compute_value_function(policy):\n",
    "    num_iterations = 1000\n",
    "    threshold = 1e-20\n",
    "    gamma = 1.0\n",
    "    value_table = np.zeros(env.observation_space.n)\n",
    "    \n",
    "    for i in range(num_iterations):\n",
    "        updated_value_table = np.copy(value_table)\n",
    "        \n",
    "        for s in range(env.observation_space.n):\n",
    "            a = policy[s]\n",
    "            value_table[s] = sum(\n",
    "                [prob * (r + gamma * updated_value_table[s_])] for prob, s_, r, _ in env.P[s][a]\n",
    "            )\n",
    "            \n",
    "        if (np.sum(np.fabs(updated_value_table - value_table))) <= threshold:\n",
    "            break\n",
    "    \n",
    "    return value_table"
   ]
  },
  {
   "cell_type": "code",
   "execution_count": null,
   "metadata": {},
   "outputs": [],
   "source": [
    "env.P[2][1]"
   ]
  },
  {
   "cell_type": "code",
   "execution_count": null,
   "metadata": {},
   "outputs": [],
   "source": [
    "value_table = np.zeros(env.observation_space.n)\n",
    "value_table"
   ]
  },
  {
   "cell_type": "code",
   "execution_count": null,
   "metadata": {},
   "outputs": [],
   "source": [
    "env.reset()\n",
    "\n",
    "env.render()"
   ]
  },
  {
   "cell_type": "code",
   "execution_count": null,
   "metadata": {},
   "outputs": [],
   "source": [
    "\n",
    "\n",
    "            "
   ]
  },
  {
   "cell_type": "code",
   "execution_count": null,
   "metadata": {},
   "outputs": [],
   "source": [
    "env.P"
   ]
  }
 ],
 "metadata": {
  "kernelspec": {
   "display_name": "base",
   "language": "python",
   "name": "python3"
  },
  "language_info": {
   "codemirror_mode": {
    "name": "ipython",
    "version": 3
   },
   "file_extension": ".py",
   "mimetype": "text/x-python",
   "name": "python",
   "nbconvert_exporter": "python",
   "pygments_lexer": "ipython3",
   "version": "3.10.9"
  },
  "orig_nbformat": 4
 },
 "nbformat": 4,
 "nbformat_minor": 2
}
